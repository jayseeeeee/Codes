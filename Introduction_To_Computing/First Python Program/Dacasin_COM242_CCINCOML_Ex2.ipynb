{
 "cells": [
  {
   "cell_type": "code",
   "execution_count": 1,
   "metadata": {},
   "outputs": [
    {
     "name": "stdout",
     "output_type": "stream",
     "text": [
      "Invalid number, please input a valid number!\n"
     ]
    }
   ],
   "source": [
    "firstNumber = input(\"Please enter a number: \")\n",
    "secondNumber = input(\"Please enter a second number: \")\n",
    "\n",
    "if not firstNumber.isdigit() or not secondNumber.isdigit():\n",
    "    print(\"Invalid number, please input a valid number!\")\n",
    "else:\n",
    "    firstNumber = float(firstNumber)\n",
    "    secondNumber = float(secondNumber)\n",
    "    operation = input(\"Select operation (+, -, *, /): \")\n",
    "    if operation == \"+\":\n",
    "        print(firstNumber + secondNumber)\n",
    "    elif operation == \"-\":\n",
    "        print(firstNumber - secondNumber)\n",
    "    elif operation == \"*\":\n",
    "        print(firstNumber * secondNumber)\n",
    "    elif operation == \"/\":\n",
    "        print(firstNumber / secondNumber)\n",
    "    else:\n",
    "        print(\"Invalid operation, please select correct operation!\")\n",
    "\n"
   ]
  }
 ],
 "metadata": {
  "kernelspec": {
   "display_name": "Python 3",
   "language": "python",
   "name": "python3"
  },
  "language_info": {
   "codemirror_mode": {
    "name": "ipython",
    "version": 3
   },
   "file_extension": ".py",
   "mimetype": "text/x-python",
   "name": "python",
   "nbconvert_exporter": "python",
   "pygments_lexer": "ipython3",
   "version": "3.12.5"
  }
 },
 "nbformat": 4,
 "nbformat_minor": 2
}
